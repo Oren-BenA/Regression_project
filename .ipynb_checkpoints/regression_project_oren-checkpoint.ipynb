{
 "cells": [
  {
   "cell_type": "code",
   "execution_count": null,
   "id": "50d23226-38ac-4f78-9f4d-9d9c5d0ab59a",
   "metadata": {},
   "outputs": [],
   "source": [
    "# This file corresponds to a 'Regression_Project' done jointly \n",
    "# by Gilad Danin and Oren Ben-Ami as part of a 'Practical Data Science' Training program\n",
    "\n",
    "\n"
   ]
  },
  {
   "cell_type": "code",
   "execution_count": 1,
   "id": "48abf0f5-141d-4264-9271-d764d3640ab0",
   "metadata": {
    "tags": []
   },
   "outputs": [],
   "source": [
    "# Gilad, please paste your code here...\n",
    "\n",
    "\n"
   ]
  }
 ],
 "metadata": {
  "kernelspec": {
   "display_name": "Python 3 (ipykernel)",
   "language": "python",
   "name": "python3"
  },
  "language_info": {
   "codemirror_mode": {
    "name": "ipython",
    "version": 3
   },
   "file_extension": ".py",
   "mimetype": "text/x-python",
   "name": "python",
   "nbconvert_exporter": "python",
   "pygments_lexer": "ipython3",
   "version": "3.11.3"
  }
 },
 "nbformat": 4,
 "nbformat_minor": 5
}
