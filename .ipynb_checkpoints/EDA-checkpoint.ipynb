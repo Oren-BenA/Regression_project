{
 "cells": [
  {
   "cell_type": "markdown",
   "metadata": {
    "id": "dSTp2n-0Pmyo"
   },
   "source": [
    "Get data"
   ]
  },
  {
   "cell_type": "code",
   "execution_count": 7,
   "metadata": {
    "tags": []
   },
   "outputs": [],
   "source": [
    "file_path = \"./data/X.csv\"\n",
    "X = pd.read_csv(file_path)\n",
    "\n",
    "file_path = \"./data/y.csv\"\n",
    "y = pd.read_csv(file_path)\n"
   ]
  },
  {
   "cell_type": "code",
   "execution_count": 8,
   "metadata": {
    "colab": {
     "base_uri": "https://localhost:8080/",
     "height": 430
    },
    "collapsed": true,
    "executionInfo": {
     "elapsed": 4227,
     "status": "ok",
     "timestamp": 1691942020380,
     "user": {
      "displayName": "Gilad Danin",
      "userId": "00864302539574052919"
     },
     "user_tz": -180
    },
    "id": "Dar8D3i1Mcu2",
    "jupyter": {
     "outputs_hidden": true
    },
    "outputId": "37314506-8702-46f7-d739-bdaa46f0c7bf",
    "tags": []
   },
   "outputs": [
    {
     "name": "stdout",
     "output_type": "stream",
     "text": [
      "<class 'pandas.core.frame.DataFrame'>\n",
      "Index: 4269 entries, 0 to 5362\n",
      "Data columns (total 17 columns):\n",
      " #   Column                   Non-Null Count  Dtype  \n",
      "---  ------                   --------------  -----  \n",
      " 0   Age                      4269 non-null   float64\n",
      " 1   Gender                   4269 non-null   object \n",
      " 2   Education Level          4269 non-null   object \n",
      " 3   Job Title                4269 non-null   object \n",
      " 4   Years of Experience      4269 non-null   float64\n",
      " 5   Country                  4269 non-null   object \n",
      " 6   Race                     4269 non-null   object \n",
      " 7   height                   4269 non-null   float64\n",
      " 8   weight                   4269 non-null   float64\n",
      " 9   id                       4269 non-null   int64  \n",
      " 10  professionalism          4269 non-null   float64\n",
      " 11  Salary                   4269 non-null   float64\n",
      " 12  Gender_encoded           4269 non-null   int32  \n",
      " 13  Education Level_encoded  4269 non-null   int32  \n",
      " 14  Job Title_encoded        4269 non-null   int32  \n",
      " 15  Country_encoded          4269 non-null   int32  \n",
      " 16  Race_encoded             4269 non-null   int32  \n",
      "dtypes: float64(6), int32(5), int64(1), object(5)\n",
      "memory usage: 516.9+ KB\n"
     ]
    }
   ],
   "source": [
    "df_org = X.join(y.set_index('id'))\n",
    "\n",
    "df_mod = df_org\n",
    "\n",
    "# clear all null lines\n",
    "for column in df_mod.columns:\n",
    "    nulls_mask = df_mod[column].notnull()  # or column_with_nulls.isna()\n",
    "    df_mod = df_mod[nulls_mask]\n",
    "\n",
    "# rename unnamed columns\n",
    "df_mod.drop(columns='Unnamed: 0', inplace=True)\n",
    "df_mod.drop(columns='Unnamed: 0.1',inplace=True)\n",
    "\n",
    "\n",
    "# deal with categorial columns\n",
    "\n",
    "label_encoder = LabelEncoder()\n",
    "for column in df_mod.select_dtypes(include=['object']).columns:\n",
    "    df_mod[column + '_encoded'] = label_encoder.fit_transform(df_mod[column])\n",
    "\n",
    "\n",
    "\n",
    "\n",
    "\n",
    "# get all relevant column names\n",
    "categorical_columns = df_mod.select_dtypes(include=['object']).columns.tolist()\n",
    "\n",
    "# drop_categorial = True\n",
    "# if (drop_categorial):\n",
    "#     df_mod = df_mod.drop(columns=categorical_columns)\n",
    "# else:\n",
    "#     # drop some of them\n",
    "#     categorical_columns_remove = 'Job Title'\n",
    "#     categorical_columns = [item for item in categorical_columns if item != categorical_columns_remove]\n",
    "\n",
    "\n",
    "#     df_mod = pd.get_dummies(df_mod,columns = categorical_columns)\n",
    "\n",
    "# df = df_mod\n",
    "df_mod.info()"
   ]
  },
  {
   "cell_type": "code",
   "execution_count": 15,
   "metadata": {
    "tags": []
   },
   "outputs": [
    {
     "ename": "NameError",
     "evalue": "name 'df' is not defined",
     "output_type": "error",
     "traceback": [
      "\u001b[1;31m---------------------------------------------------------------------------\u001b[0m",
      "\u001b[1;31mNameError\u001b[0m                                 Traceback (most recent call last)",
      "Cell \u001b[1;32mIn[15], line 4\u001b[0m\n\u001b[0;32m      1\u001b[0m \u001b[38;5;66;03m# pairplot  = sns.pairplot(df_mod,vars = ['Gender_encoded', 'Education Level_encoded', 'Job Title_encoded', 'Country_encoded', 'Race_encoded','Salary'])\u001b[39;00m\n\u001b[0;32m      2\u001b[0m \n\u001b[0;32m      3\u001b[0m \u001b[38;5;66;03m# Split the data into separate columns\u001b[39;00m\n\u001b[1;32m----> 4\u001b[0m split_data \u001b[38;5;241m=\u001b[39m \u001b[43mdf\u001b[49m[\u001b[38;5;124m'\u001b[39m\u001b[38;5;124mcolumn_name\u001b[39m\u001b[38;5;124m'\u001b[39m]\u001b[38;5;241m.\u001b[39mstr\u001b[38;5;241m.\u001b[39msplit(\u001b[38;5;124m'\u001b[39m\u001b[38;5;124m|\u001b[39m\u001b[38;5;124m'\u001b[39m, expand\u001b[38;5;241m=\u001b[39m\u001b[38;5;28;01mTrue\u001b[39;00m)\n\u001b[0;32m      6\u001b[0m \u001b[38;5;66;03m# Rename the columns\u001b[39;00m\n\u001b[0;32m      7\u001b[0m split_data\u001b[38;5;241m.\u001b[39mcolumns \u001b[38;5;241m=\u001b[39m [\u001b[38;5;124m'\u001b[39m\u001b[38;5;124mcolumn_1\u001b[39m\u001b[38;5;124m'\u001b[39m, \u001b[38;5;124m'\u001b[39m\u001b[38;5;124mcolumn_2\u001b[39m\u001b[38;5;124m'\u001b[39m, \u001b[38;5;124m'\u001b[39m\u001b[38;5;124mcolumn_3\u001b[39m\u001b[38;5;124m'\u001b[39m]\n",
      "\u001b[1;31mNameError\u001b[0m: name 'df' is not defined"
     ]
    }
   ],
   "source": [
    "# pairplot  = sns.pairplot(df_mod,vars = ['Gender_encoded', 'Education Level_encoded', 'Job Title_encoded', 'Country_encoded', 'Race_encoded','Salary'])\n",
    "df = df_mod[]\n",
    "# Split the data into separate columns\n",
    "split_data = df['column_name'].str.split('|', expand=True)\n",
    "\n",
    "# Rename the columns\n",
    "split_data.columns = ['column_1', 'column_2', 'column_3']\n",
    "\n",
    "# Concatenate the split data with the original DataFrame\n",
    "df = pd.concat([df, split_data], axis=1)\n",
    "\n",
    "# Drop the original column\n",
    "df.drop(columns=['column_name'], inplace=True)\n",
    "\n",
    "\n",
    "\n"
   ]
  },
  {
   "cell_type": "code",
   "execution_count": 14,
   "metadata": {
    "tags": []
   },
   "outputs": [
    {
     "data": {
      "text/plain": [
       "array(['back|end|develope', 'operations|manage', 'senior|product|manage',\n",
       "       'marketing|manage', 'product|manage', 'software|engineer|manage',\n",
       "       'full|stack|enginee', 'web|develope', 'research|scientis',\n",
       "       'director|of|h', 'marketing|coordinato',\n",
       "       'digital|marketing|manage', 'marketing|analys', 'software|enginee',\n",
       "       'front|end|develope', 'data|scientis', 'receptionis',\n",
       "       'content|marketing|manage', 'director|of|marketin', 'data|analys',\n",
       "       'product|marketing|manage', 'senior|marketing|analys',\n",
       "       'senior|project|enginee', 'senior|software|enginee',\n",
       "       'financial|manage', 'project|manage', 'junior|sales|associat',\n",
       "       'junior|hr|generalis', 'senior|hr|generalis',\n",
       "       'senior|human|resources|manage', 'social|media|specialis',\n",
       "       'sales|directo', 'junior|hr|coordinato', 'software|develope',\n",
       "       'senior|product|marketing|manage', 'junior|marketing|manage',\n",
       "       'sales|manage', 'sales|associat', 'product|designe',\n",
       "       'senior|project|manage', 'data|entry|cler',\n",
       "       'senior|marketing|manage', 'public|relations|manage',\n",
       "       'research|directo', 'senior|data|scientis',\n",
       "       'human|resources|coordinato', 'director|of|operation',\n",
       "       'junior|web|develope', 'financial|analys',\n",
       "       'human|resources|manage', 'sales|executiv', 'marketing|directo',\n",
       "       'junior|social|media|specialis', 'junior|operations|analys',\n",
       "       'senior|research|scientis', 'digital|marketing|specialis',\n",
       "       'director|of|data|scienc', 'junior|sales|representativ',\n",
       "       'delivery|drive', 'junior|product|manage',\n",
       "       'senior|it|support|specialis', 'sales|representativ',\n",
       "       'junior|data|analys', 'customer|success|re',\n",
       "       'juniour|hr|coordinato', 'office|manage',\n",
       "       'junior|operations|manage', 'junior|marketing|coordinato',\n",
       "       'help|desk|analys', 'customer|service|representativ',\n",
       "       'junior|data|scientis', 'senior|data|analys',\n",
       "       'junior|software|develope', 'senior|training|specialis',\n",
       "       'director|of|human|capita', 'junior|software|enginee',\n",
       "       'junior|project|manage', 'principal|scientis',\n",
       "       'senior|project|coordinato', 'junior|accountan', 'senior|scientis',\n",
       "       'senior|business|analys', 'senior|data|enginee',\n",
       "       'it|support|specialis', 'senior|marketing|specialis',\n",
       "       'social|media|manage', 'software|manage',\n",
       "       'senior|marketing|coordinato', 'accountan', 'graphic|designe',\n",
       "       'senior|enginee', 'junior|marketing|specialis',\n",
       "       'director|of|engineerin', 'training|specialis',\n",
       "       'junior|customer|support|specialis', 'junior|business|analys',\n",
       "       'software|project|manage', 'junior|marketing|analys',\n",
       "       'chief|technology|office', 'director|of|human|resource',\n",
       "       'senior|financial|adviso', 'senior|human|resources|specialis',\n",
       "       'senior|financial|analys', 'human|resources|directo',\n",
       "       'junior|financial|analys', 'senior|hr|manage',\n",
       "       'junior|business|development|associat', 'senior|it|consultan',\n",
       "       'junior|social|media|manage', 'network|enginee',\n",
       "       'junior|ux|designe', 'technical|write',\n",
       "       'senior|human|resources|coordinato', 'senior|software|develope',\n",
       "       'vp|of|operation', 'hr|manage', 'senior|accountan',\n",
       "       'account|manage', 'administrative|assistan', 'social|media|ma',\n",
       "       'juniour|hr|generalis', 'senior|financial|manage',\n",
       "       'senior|product|development|manage', 'senior|product|designe',\n",
       "       'event|coordinato', 'senior|graphic|designe',\n",
       "       'senior|business|development|manage', 'strategy|consultan',\n",
       "       'junior|account|manage', 'digital|content|produce', 'vp|of|financ',\n",
       "       'junior|designe', 'it|manage', 'junior|web|designe',\n",
       "       'junior|research|scientis', 'customer|success|manage',\n",
       "       'business|intelligence|analys', 'business|development|manage',\n",
       "       'junior|copywrite', 'ux|designe', 'creative|directo',\n",
       "       'business|analys', 'ce', 'junior|business|operations|analys',\n",
       "       'senior|operations|manage', 'technical|support|specialis',\n",
       "       'director|of|sales|and|marketin', 'copywrite',\n",
       "       'supply|chain|manage', 'senior|operations|coordinato',\n",
       "       'hr|generalis', 'customer|service|re', 'marketing|specialis',\n",
       "       'customer|service|manage', 'recruite', 'senior|marketing|directo',\n",
       "       'operations|analys', 'senior|sales|representativ', 'directo',\n",
       "       'director|of|sale', 'junior|financial|adviso',\n",
       "       'senior|operations|analys', 'junior|recruite',\n",
       "       'senior|sales|manage', 'director|of|financ'], dtype=object)"
      ]
     },
     "execution_count": 14,
     "metadata": {},
     "output_type": "execute_result"
    }
   ],
   "source": [
    "categorical_columns\n",
    "df = df_mod['Job Title'].unique()"
   ]
  }
 ],
 "metadata": {
  "colab": {
   "provenance": []
  },
  "kernelspec": {
   "display_name": "Python 3 (ipykernel)",
   "language": "python",
   "name": "python3"
  },
  "language_info": {
   "codemirror_mode": {
    "name": "ipython",
    "version": 3
   },
   "file_extension": ".py",
   "mimetype": "text/x-python",
   "name": "python",
   "nbconvert_exporter": "python",
   "pygments_lexer": "ipython3",
   "version": "3.11.3"
  }
 },
 "nbformat": 4,
 "nbformat_minor": 4
}
