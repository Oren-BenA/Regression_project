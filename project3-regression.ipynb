{
 "cells": [
  {
   "cell_type": "markdown",
   "metadata": {
    "id": "dv5r5YCyPWWW"
   },
   "source": [
    "imports    "
   ]
  },
  {
   "cell_type": "code",
   "execution_count": 1,
   "metadata": {
    "tags": []
   },
   "outputs": [
    {
     "name": "stdout",
     "output_type": "stream",
     "text": [
      "Requirement already satisfied: scikit-learn in c:\\users\\gilad\\anaconda3\\envs\\eda\\lib\\site-packages (1.3.0)Note: you may need to restart the kernel to use updated packages.\n",
      "\n",
      "Requirement already satisfied: numpy>=1.17.3 in c:\\users\\gilad\\anaconda3\\envs\\eda\\lib\\site-packages (from scikit-learn) (1.25.0)\n",
      "Requirement already satisfied: scipy>=1.5.0 in c:\\users\\gilad\\anaconda3\\envs\\eda\\lib\\site-packages (from scikit-learn) (1.11.1)\n",
      "Requirement already satisfied: joblib>=1.1.1 in c:\\users\\gilad\\anaconda3\\envs\\eda\\lib\\site-packages (from scikit-learn) (1.3.2)\n",
      "Requirement already satisfied: threadpoolctl>=2.0.0 in c:\\users\\gilad\\anaconda3\\envs\\eda\\lib\\site-packages (from scikit-learn) (3.2.0)\n"
     ]
    }
   ],
   "source": [
    "pip install scikit-learn\n"
   ]
  },
  {
   "cell_type": "code",
   "execution_count": 2,
   "metadata": {
    "executionInfo": {
     "elapsed": 489,
     "status": "ok",
     "timestamp": 1691941870862,
     "user": {
      "displayName": "Gilad Danin",
      "userId": "00864302539574052919"
     },
     "user_tz": -180
    },
    "id": "q83U1-BC4liK"
   },
   "outputs": [],
   "source": [
    "# None linear\n",
    "import numpy as np\n",
    "import pandas as pd\n",
    "import matplotlib.pyplot as plt\n",
    "from sklearn.preprocessing import PolynomialFeatures\n",
    "\n",
    "from sklearn.linear_model import LinearRegression\n",
    "from sklearn.linear_model import Lasso\n",
    "from sklearn.linear_model import Ridge\n",
    "\n",
    "from sklearn.tree import DecisionTreeRegressor\n",
    "from sklearn.neighbors import KNeighborsRegressor\n",
    "\n",
    "\n",
    "from sklearn.model_selection import train_test_split\n",
    "from sklearn.metrics import mean_squared_error as rmse\n",
    "\n",
    "import time\n",
    "import sys\n",
    "import math\n",
    "from math import ceil\n",
    "from math import floor"
   ]
  },
  {
   "cell_type": "code",
   "execution_count": 3,
   "metadata": {
    "executionInfo": {
     "elapsed": 489,
     "status": "ok",
     "timestamp": 1691941870862,
     "user": {
      "displayName": "Gilad Danin",
      "userId": "00864302539574052919"
     },
     "user_tz": -180
    },
    "id": "q83U1-BC4liK"
   },
   "outputs": [],
   "source": [
    "# None linear\n",
    "import numpy as np\n",
    "import pandas as pd\n",
    "import matplotlib.pyplot as plt\n",
    "from sklearn.preprocessing import PolynomialFeatures\n",
    "\n",
    "from sklearn.linear_model import LinearRegression\n",
    "from sklearn.linear_model import Lasso\n",
    "from sklearn.linear_model import Ridge\n",
    "\n",
    "from sklearn.tree import DecisionTreeRegressor\n",
    "from sklearn.neighbors import KNeighborsRegressor\n",
    "\n",
    "\n",
    "from sklearn.model_selection import train_test_split\n",
    "from sklearn.metrics import mean_squared_error as rmse\n",
    "\n",
    "import time\n",
    "import sys\n",
    "import math\n",
    "from math import ceil\n",
    "from math import floor"
   ]
  },
  {
   "cell_type": "markdown",
   "metadata": {
    "id": "dSTp2n-0Pmyo"
   },
   "source": [
    "Get data"
   ]
  },
  {
   "cell_type": "code",
   "execution_count": 4,
   "metadata": {
    "executionInfo": {
     "elapsed": 23,
     "status": "ok",
     "timestamp": 1691941872676,
     "user": {
      "displayName": "Gilad Danin",
      "userId": "00864302539574052919"
     },
     "user_tz": -180
    },
    "id": "cEjD3pfVLoSk",
    "tags": []
   },
   "outputs": [],
   "source": [
    "import itertools\n",
    "def get_permutations(config_dic):\n",
    "# Get values for each key\n",
    "    values = config_dic.values()\n",
    "    pairs = []\n",
    "# Generate pairs of values\n",
    "    for combination in itertools.product(*values):\n",
    "        pairs.append(list(combination))\n",
    "\n",
    "# Display the pairs\n",
    "    permute_dics = []\n",
    "    for pair in pairs:\n",
    "        permute_dics.append({k: v for k, v in zip(config_dic.keys(), pair)})\n",
    "\n",
    "    return permute_dics\n",
    "\n",
    "def print_dict_verticaly(dict_):\n",
    "  for key, value in dict_.items():\n",
    "    print(f\"{key}: {value}\")\n",
    "\n",
    "def print_list_vertically(list_):\n",
    "  vertical_string = '\\n'.join(str(element) for element in list_)\n",
    "  print(vertical_string)\n",
    "\n",
    "def filter_func_params(func_params,params):\n",
    "  params_filtered = {}\n",
    "  for name in params:\n",
    "    if (name in func_params):\n",
    "      params_filtered.update({name: params[name]})\n",
    "\n",
    "  return params_filtered\n",
    "\n",
    "def generate_colors(num_colors):\n",
    "    cmap = plt.get_cmap('tab10')  # You can use different colormaps like 'tab10', 'viridis', 'Set1', etc.\n",
    "    colors = [cmap(i) for i in range(num_colors)]\n",
    "    return colors\n"
   ]
  },
  {
   "cell_type": "code",
   "execution_count": 5,
   "metadata": {
    "executionInfo": {
     "elapsed": 23,
     "status": "ok",
     "timestamp": 1691941872676,
     "user": {
      "displayName": "Gilad Danin",
      "userId": "00864302539574052919"
     },
     "user_tz": -180
    },
    "id": "cEjD3pfVLoSk"
   },
   "outputs": [],
   "source": [
    "import itertools\n",
    "def get_permutations(config_dic):\n",
    "# Get values for each key\n",
    "    values = config_dic.values()\n",
    "    pairs = []\n",
    "# Generate pairs of values\n",
    "    for combination in itertools.product(*values):\n",
    "        pairs.append(list(combination))\n",
    "\n",
    "# Display the pairs\n",
    "    permute_dics = []\n",
    "    for pair in pairs:\n",
    "        permute_dics.append({k: v for k, v in zip(config_dic.keys(), pair)})\n",
    "\n",
    "    return permute_dics\n",
    "\n",
    "def print_dict_verticaly(dict_):\n",
    "  for key, value in dict_.items():\n",
    "    print(f\"{key}: {value}\")\n",
    "\n",
    "def print_list_vertically(list_):\n",
    "  vertical_string = '\\n'.join(str(element) for element in list_)\n",
    "  print(vertical_string)\n",
    "\n",
    "def filter_func_params(func_params,params):\n",
    "  params_filtered = {}\n",
    "  for name in params:\n",
    "    if (name in func_params):\n",
    "      params_filtered.update({name: params[name]})\n",
    "\n",
    "  return params_filtered\n",
    "\n",
    "def generate_colors(num_colors):\n",
    "    cmap = plt.get_cmap('tab10')  # You can use different colormaps like 'tab10', 'viridis', 'Set1', etc.\n",
    "    colors = [cmap(i) for i in range(num_colors)]\n",
    "    return colors\n"
   ]
  },
  {
   "cell_type": "code",
   "execution_count": null,
   "metadata": {},
   "outputs": [],
   "source": [
    "\n"
   ]
  },
  {
   "cell_type": "markdown",
   "metadata": {
    "id": "FKnrruGTQDQd"
   },
   "source": [
    "PREDICTOR class"
   ]
  },
  {
   "cell_type": "code",
   "execution_count": 6,
   "metadata": {
    "executionInfo": {
     "elapsed": 23,
     "status": "ok",
     "timestamp": 1691941872677,
     "user": {
      "displayName": "Gilad Danin",
      "userId": "00864302539574052919"
     },
     "user_tz": -180
    },
    "id": "W58DeV91GzAc"
   },
   "outputs": [],
   "source": [
    "class PREDICTOR():\n",
    "    def __init__(self,name = None):\n",
    "      self.model = None\n",
    "      self.name = name\n",
    "      self.params = None\n",
    "      self.stats = {}\n",
    "\n",
    "    def train_test_split(X,y):\n",
    "      X_train, X_test, y_train, y_test = train_test_split(\n",
    "          X, y, test_size=0.33, random_state=42)\n",
    "\n",
    "      return X_train, X_test, y_train, y_test\n",
    "\n",
    "\n",
    "    def fit(self, X, y,type,params={}):\n",
    "      if (len(params)==0):\n",
    "        params = {}\n",
    "      self.params = params\n",
    "\n",
    "      if (1):\n",
    "      # try:\n",
    "        if (type=='linear_regression'):\n",
    "          params_filtered = filter_func_params(LinearRegression().get_params(),params)\n",
    "          self.model = LinearRegression(**params_filtered)\n",
    "\n",
    "        elif (type=='decision_tree'):\n",
    "          params_filtered = filter_func_params(DecisionTreeRegressor().get_params(),params)\n",
    "          self.model = DecisionTreeRegressor(**params_filtered)\n",
    "\n",
    "        elif (type=='knn'):\n",
    "          params_filtered = filter_func_params(KNeighborsRegressor().get_params(),params)\n",
    "          self.model = KNeighborsRegressor(**params_filtered)\n",
    "            \n",
    "        elif (type=='lasso'):\n",
    "          params_filtered = filter_func_params(Lasso().get_params(),params)\n",
    "          self.model = Lasso(**params_filtered)\n",
    "                \n",
    "        elif (type=='ridge'):\n",
    "          params_filtered = filter_func_params(Ridge().get_params(),params)\n",
    "          self.model = Ridge(**params_filtered)                \n",
    "            \n",
    "        self.model.fit(X, y)\n",
    "      return 1\n",
    "\n",
    "      # except:\n",
    "      #   print(f'{type} fit failed due to wrong parameterization:{params}')\n",
    "      #   return 0\n",
    "\n",
    "\n",
    "    def predict(self, X):\n",
    "        y_pred = self.model.predict(X)        \n",
    "        return y_pred\n",
    "\n",
    "\n",
    "    def plot_prediction(self,X,y,y_pred=None,axes=None):\n",
    "        print('kuku')\n",
    "        if (axes is None):\n",
    "            fig, axes = plt.subplots(nrows=1, ncols=1)\n",
    "\n",
    "        if (y_pred is None):\n",
    "            y_pred = self.predict(X)\n",
    "\n",
    "        axes.scatter(y, y_pred, color='blue', label='Actual Data',s=5)\n",
    "        \n",
    "        axes.legend()\n",
    "        params_string = self.create_params_string()\n",
    "        axes.set_title(self.name+':'+params_string,fontsize=8)\n",
    "        x_limits = axes.get_xlim()\n",
    "        y_limits = axes.get_ylim()\n",
    "        x_corr = abs(x_limits[1]-x_limits[0])*0.9+x_limits[0]\n",
    "        y_corr = abs(y_limits[1]-y_limits[0])*0.1+y_limits[0]\n",
    "        RMSE = self.evaluate(y,y_pred)\n",
    "        axes.text(x_corr,y_corr,f'RMSE={RMSE:.3f}',horizontalalignment='center',fontsize=8)\n",
    "\n",
    "    def evaluate(self,y, y_pred,str=''):\n",
    "        if (str != ''):\n",
    "          str = '_' + str\n",
    "        self.stats.update({'rmse'+str:rmse(y, y_pred)})\n",
    "        return self.stats\n",
    "\n",
    "    def create_params_string(self):\n",
    "      params_string = ''\n",
    "      for key, value in self.params.items():\n",
    "        params_string = params_string+f'{key}={value}'\n",
    "      return params_string"
   ]
  },
  {
   "cell_type": "markdown",
   "metadata": {
    "id": "jjFbMZFJP4DF"
   },
   "source": [
    "AI_PIPE_LINE class"
   ]
  },
  {
   "cell_type": "code",
   "execution_count": 7,
   "metadata": {
    "executionInfo": {
     "elapsed": 619,
     "status": "ok",
     "timestamp": 1691942016158,
     "user": {
      "displayName": "Gilad Danin",
      "userId": "00864302539574052919"
     },
     "user_tz": -180
    },
    "id": "ME6qF_wRzHRq"
   },
   "outputs": [],
   "source": [
    "class AI_PIPE_LINE():\n",
    "  def __init__(self,name = None):\n",
    "    self.df = None\n",
    "    self.params_permutes_dic = None\n",
    "    self.predictors = {}\n",
    "    self.stats = {}\n",
    "\n",
    "  def prepare_data(self,df):\n",
    "    self.df = df\n",
    "\n",
    "  def train_test_split(self,X_columns,y_column,params={}):\n",
    "    # params_filtered = filter_func_params(train_test_split().get_params(),params)\n",
    "    params_filtered = {}\n",
    "    X = self.df[X_columns]\n",
    "    # if (len(X_columns)==1):\n",
    "    #   X = X.reshape(-1,1)\n",
    "\n",
    "    y = self.df[y_column]\n",
    "\n",
    "\n",
    "    X_train, X_test, y_train, y_test = train_test_split(X,y,**params_filtered)\n",
    "    return X_train, X_test, y_train, y_test\n",
    "\n",
    "  def get_permutations(self,config_dic):\n",
    "  # Get values for each key\n",
    "      values = config_dic.values()\n",
    "      pairs = []\n",
    "\n",
    "  # Generate pairs of values\n",
    "      for combination in itertools.product(*values):\n",
    "          pairs.append(list(combination))\n",
    "\n",
    "  # Display the pairs\n",
    "      params_permutes_dic = []\n",
    "      for pair in pairs:\n",
    "          params_permutes_dic.append({k: v for k, v in zip(config_dic.keys(), pair)})\n",
    "\n",
    "      self.params_permutes_dic = params_permutes_dic\n",
    "      return params_permutes_dic\n",
    "\n",
    "  def add_predictor(self,name=None):\n",
    "    if (name is None):\n",
    "      name = f'model_{len(self.predictors)}'\n",
    "\n",
    "    predictor = PREDICTOR(name)\n",
    "    self.predictors.update({name:predictor})\n",
    "    return predictor\n",
    "\n",
    "\n",
    "\n",
    "  def get_stats(self,stat_names=None):\n",
    "    stats = {}\n",
    "\n",
    "    for stat_name in stat_names:\n",
    "      stats.update({stat_name:[]})\n",
    "      for name in self.predictors.keys():\n",
    "        stats_pred = self.predictors[name].stats\n",
    "        stats[stat_name].append(stats_pred[stat_name])\n",
    "\n",
    "      self.stats = stats\n",
    "    return stats\n",
    "\n",
    "\n",
    "  def plot_stats(self,stats_names):\n",
    "    fig = plt.figure()\n",
    "    colors = generate_colors(len(stats_names))\n",
    "    idx = 0\n",
    "    for stat_name in stats_names:\n",
    "      stat = self.stats[stat_name]\n",
    "      plt.plot(stat,color=colors[idx])\n",
    "      idx+=1\n",
    "\n",
    "    plt.legend(stats_names)\n",
    "    \n",
    "    def filter_predictors(self, filter_dic):\n",
    "        filtered_predictor = self.predictors\n",
    "        return filtered_predictors"
   ]
  },
  {
   "cell_type": "markdown",
   "metadata": {
    "id": "iLIuGw9YQJB0"
   },
   "source": [
    "Project"
   ]
  },
  {
   "cell_type": "code",
   "execution_count": 8,
   "metadata": {
    "tags": []
   },
   "outputs": [],
   "source": [
    "file_path = \"./data/X.csv\"\n",
    "X = pd.read_csv(file_path)\n",
    "\n",
    "file_path = \"./data/y.csv\"\n",
    "y = pd.read_csv(file_path)\n"
   ]
  },
  {
   "cell_type": "code",
   "execution_count": 9,
   "metadata": {
    "colab": {
     "base_uri": "https://localhost:8080/",
     "height": 430
    },
    "executionInfo": {
     "elapsed": 4227,
     "status": "ok",
     "timestamp": 1691942020380,
     "user": {
      "displayName": "Gilad Danin",
      "userId": "00864302539574052919"
     },
     "user_tz": -180
    },
    "id": "Dar8D3i1Mcu2",
    "outputId": "37314506-8702-46f7-d739-bdaa46f0c7bf",
    "tags": []
   },
   "outputs": [],
   "source": [
    "df = X.join(y.set_index('id'))\n",
    "\n",
    "df_mod = df\n",
    "\n",
    "# clear all null lines\n",
    "for column in df_mod.columns:\n",
    "    nulls_mask = df_mod[column].notnull()  # or column_with_nulls.isna()\n",
    "    df_mod = df_mod[nulls_mask]\n",
    "\n",
    "# rename unnamed columns\n",
    "df_mod.rename(columns={'Unnamed: 0.1': 'col1'}, inplace=True)\n",
    "df_mod.drop(columns='Unnamed: 0', inplace=True)\n",
    "\n",
    "# deal with categorial columns\n",
    "\n",
    "# get all relevant column names\n",
    "categorical_columns = df_mod.select_dtypes(include=['object']).columns.tolist()\n",
    "\n",
    "drop_categorial = True\n",
    "if (drop_categorial):\n",
    "    df_mod = df_mod.drop(columns=categorical_columns)\n",
    "else:\n",
    "    # drop some of them\n",
    "    categorical_columns_remove = 'Job Title'\n",
    "    categorical_columns = [item for item in categorical_columns if item != categorical_columns_remove]\n",
    "\n",
    "\n",
    "    df_mod = pd.get_dummies(df_mod,columns = categorical_columns)\n",
    "\n",
    "\n",
    "\n",
    "\n",
    "df = df_mod\n"
   ]
  },
  {
   "cell_type": "code",
   "execution_count": 10,
   "metadata": {
    "executionInfo": {
     "elapsed": 22,
     "status": "aborted",
     "timestamp": 1691941872683,
     "user": {
      "displayName": "Gilad Danin",
      "userId": "00864302539574052919"
     },
     "user_tz": -180
    },
    "id": "6Ffx6sex8uBO",
    "tags": []
   },
   "outputs": [
    {
     "name": "stdout",
     "output_type": "stream",
     "text": [
      "kuku\n"
     ]
    },
    {
     "ename": "TypeError",
     "evalue": "unsupported format string passed to dict.__format__",
     "output_type": "error",
     "traceback": [
      "\u001b[1;31m---------------------------------------------------------------------------\u001b[0m",
      "\u001b[1;31mTypeError\u001b[0m                                 Traceback (most recent call last)",
      "Cell \u001b[1;32mIn[10], line 59\u001b[0m\n\u001b[0;32m     55\u001b[0m stats \u001b[38;5;241m=\u001b[39m AI_pipe_line\u001b[38;5;241m.\u001b[39mget_stats([\u001b[38;5;124m'\u001b[39m\u001b[38;5;124mrmse_train\u001b[39m\u001b[38;5;124m'\u001b[39m,\u001b[38;5;124m'\u001b[39m\u001b[38;5;124mrmse_test\u001b[39m\u001b[38;5;124m'\u001b[39m])\n\u001b[0;32m     57\u001b[0m AI_pipe_line\u001b[38;5;241m.\u001b[39mplot_stats(stats_names\u001b[38;5;241m=\u001b[39m[\u001b[38;5;124m'\u001b[39m\u001b[38;5;124mrmse_train\u001b[39m\u001b[38;5;124m'\u001b[39m,\u001b[38;5;124m'\u001b[39m\u001b[38;5;124mrmse_test\u001b[39m\u001b[38;5;124m'\u001b[39m])\n\u001b[1;32m---> 59\u001b[0m \u001b[43mAI_pipe_line\u001b[49m\u001b[38;5;241;43m.\u001b[39;49m\u001b[43mpredictors\u001b[49m\u001b[43m[\u001b[49m\u001b[38;5;124;43m'\u001b[39;49m\u001b[38;5;124;43mmodel_0\u001b[39;49m\u001b[38;5;124;43m'\u001b[39;49m\u001b[43m]\u001b[49m\u001b[38;5;241;43m.\u001b[39;49m\u001b[43mplot_prediction\u001b[49m\u001b[43m(\u001b[49m\u001b[43mX_test\u001b[49m\u001b[43m,\u001b[49m\u001b[43my_test\u001b[49m\u001b[43m,\u001b[49m\u001b[43maxes\u001b[49m\u001b[38;5;241;43m=\u001b[39;49m\u001b[38;5;28;43;01mNone\u001b[39;49;00m\u001b[43m)\u001b[49m\n",
      "Cell \u001b[1;32mIn[6], line 73\u001b[0m, in \u001b[0;36mPREDICTOR.plot_prediction\u001b[1;34m(self, X, y, y_pred, axes)\u001b[0m\n\u001b[0;32m     71\u001b[0m y_corr \u001b[38;5;241m=\u001b[39m \u001b[38;5;28mabs\u001b[39m(y_limits[\u001b[38;5;241m1\u001b[39m]\u001b[38;5;241m-\u001b[39my_limits[\u001b[38;5;241m0\u001b[39m])\u001b[38;5;241m*\u001b[39m\u001b[38;5;241m0.1\u001b[39m\u001b[38;5;241m+\u001b[39my_limits[\u001b[38;5;241m0\u001b[39m]\n\u001b[0;32m     72\u001b[0m RMSE \u001b[38;5;241m=\u001b[39m \u001b[38;5;28mself\u001b[39m\u001b[38;5;241m.\u001b[39mevaluate(y,y_pred)\n\u001b[1;32m---> 73\u001b[0m axes\u001b[38;5;241m.\u001b[39mtext(x_corr,y_corr,\u001b[38;5;124mf\u001b[39m\u001b[38;5;124m'\u001b[39m\u001b[38;5;124mRMSE=\u001b[39m\u001b[38;5;132;01m{\u001b[39;00mRMSE\u001b[38;5;132;01m:\u001b[39;00m\u001b[38;5;124m.3f\u001b[39m\u001b[38;5;132;01m}\u001b[39;00m\u001b[38;5;124m'\u001b[39m,horizontalalignment\u001b[38;5;241m=\u001b[39m\u001b[38;5;124m'\u001b[39m\u001b[38;5;124mcenter\u001b[39m\u001b[38;5;124m'\u001b[39m,fontsize\u001b[38;5;241m=\u001b[39m\u001b[38;5;241m8\u001b[39m)\n",
      "\u001b[1;31mTypeError\u001b[0m: unsupported format string passed to dict.__format__"
     ]
    },
    {
     "data": {
      "image/png": "[encoded data removed]",
      "text/plain": [
       "<Figure size 640x480 with 1 Axes>"
      ]
     },
     "metadata": {},
     "output_type": "display_data"
    },
    {
     "data": {
      "image/png": "[encoded data removed]",
      "text/plain": [
       "<Figure size 640x480 with 1 Axes>"
      ]
     },
     "metadata": {},
     "output_type": "display_data"
    }
   ],
   "source": [
    "AI_pipe_line = AI_PIPE_LINE()\n",
    "\n",
    "AI_pipe_line.prepare_data(df)\n",
    "\n",
    "X_columns = df.columns.drop('Salary')\n",
    "X_columns = [item for item in df.columns if item not in categorical_columns]\n",
    "\n",
    "y_cloumn = 'Salary'\n",
    "\n",
    "# linear regression on single features\n",
    "params_config_dic = {\n",
    "                     'model_type':['linear_regression'],\n",
    "                     'random_state':[0],\n",
    "                     'X_columns':X_columns\n",
    "                     }\n",
    "\n",
    "params_permutes_list = AI_pipe_line.get_permutations(params_config_dic)\n",
    "# Lasso regression on multiple featrures\n",
    "\n",
    "params_config_dic = {\n",
    "                     'model_type':['lasso'],\n",
    "                     'random_state':[0],\n",
    "                     'X_columns':X_columns\n",
    "                     }\n",
    "\n",
    "params_permutes_list = AI_pipe_line.get_permutations(params_config_dic)\n",
    "\n",
    "\n",
    "# split to train and test\n",
    "\n",
    "\n",
    "\n",
    "for params_dic in params_permutes_list:\n",
    "    X_train, X_test, y_train, y_test = AI_pipe_line.train_test_split(X_columns,y_cloumn)\n",
    "\n",
    "    # create predictor\n",
    "    predictor = AI_pipe_line.add_predictor()\n",
    "\n",
    "    # fit model\n",
    "    predictor.fit(X_train, y_train,params_dic['model_type'],params_dic)\n",
    "\n",
    "    # predict and eval on train\n",
    "    y_train_predict = predictor.predict(X_train)\n",
    "    stats = predictor.evaluate(y_train,y_train_predict,'train')\n",
    "\n",
    "    # predict and eval on test\n",
    "    y_test_predict = predictor.predict(X_test)\n",
    "    stats = predictor.evaluate(y_test,y_test_predict,'test')\n",
    "\n",
    "\n",
    "# filter the predictors\n",
    "# predictors_filter = {'model_type':'linear_regression'}    \n",
    "    \n",
    "# collect the stats from all the predictors\n",
    "stats = AI_pipe_line.get_stats(['rmse_train','rmse_test'])\n",
    "\n",
    "AI_pipe_line.plot_stats(stats_names=['rmse_train','rmse_test'])\n",
    "\n",
    "AI_pipe_line.predictors['model_0'].plot_prediction(X_test,y_test,axes=None)\n"
   ]
  },
  {
   "cell_type": "code",
   "execution_count": null,
   "metadata": {
    "tags": []
   },
   "outputs": [],
   "source": [
    "AI_pipe_line.predictors['model_0'].plot_prediction(X_test,y_test,axes=None)\n"
   ]
  },
  {
   "cell_type": "code",
   "execution_count": null,
   "metadata": {
    "tags": []
   },
   "outputs": [],
   "source": [
    "AI_pipe_line.predictors\n"
   ]
  }
 ],
 "metadata": {
  "colab": {
   "provenance": []
  },
  "kernelspec": {
   "display_name": "Python 3 (ipykernel)",
   "language": "python",
   "name": "python3"
  },
  "language_info": {
   "codemirror_mode": {
    "name": "ipython",
    "version": 3
   },
   "file_extension": ".py",
   "mimetype": "text/x-python",
   "name": "python",
   "nbconvert_exporter": "python",
   "pygments_lexer": "ipython3",
   "version": "3.11.3"
  }
 },
 "nbformat": 4,
 "nbformat_minor": 4
}
